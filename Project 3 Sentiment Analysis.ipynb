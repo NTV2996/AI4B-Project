{
  "nbformat": 4,
  "nbformat_minor": 0,
  "metadata": {
    "colab": {
      "provenance": []
    },
    "kernelspec": {
      "name": "python3",
      "display_name": "Python 3"
    },
    "language_info": {
      "name": "python"
    }
  },
  "cells": [
    {
      "cell_type": "markdown",
      "source": [
        "# 1. Preprocess Data"
      ],
      "metadata": {
        "id": "fYHIfANMRC1c"
      }
    },
    {
      "cell_type": "code",
      "source": [
        "import pandas as pd\n",
        "import numpy as np\n",
        "import nltk\n",
        "from nltk.stem import WordNetLemmatizer\n",
        "import re"
      ],
      "metadata": {
        "id": "t9TDpte9uOeX"
      },
      "execution_count": null,
      "outputs": []
    },
    {
      "cell_type": "code",
      "source": [
        "!gdown '1cXAo2k0dJnFimY5EcmWwd7vnCwrtV_tt'"
      ],
      "metadata": {
        "colab": {
          "base_uri": "https://localhost:8080/"
        },
        "id": "-2zNM4SuEqfz",
        "outputId": "d77af0a1-1d50-423b-f9d8-0ce7e26cda72"
      },
      "execution_count": null,
      "outputs": [
        {
          "output_type": "stream",
          "name": "stdout",
          "text": [
            "Downloading...\n",
            "From: https://drive.google.com/uc?id=1cXAo2k0dJnFimY5EcmWwd7vnCwrtV_tt\n",
            "To: /content/IMDB Dataset.csv\n",
            "100% 66.2M/66.2M [00:01<00:00, 37.7MB/s]\n"
          ]
        }
      ]
    },
    {
      "cell_type": "markdown",
      "source": [
        "Đọc dữ liệu vào"
      ],
      "metadata": {
        "id": "ORl83yOdwPLU"
      }
    },
    {
      "cell_type": "code",
      "source": [
        "df = pd.read_csv('IMDB Dataset.csv')"
      ],
      "metadata": {
        "id": "qzooLb1QBEuy"
      },
      "execution_count": null,
      "outputs": []
    },
    {
      "cell_type": "markdown",
      "source": [
        "Tìm hiểu về dữ liệu"
      ],
      "metadata": {
        "id": "BQ3qmBhEwkgc"
      }
    },
    {
      "cell_type": "code",
      "source": [
        "df.head()"
      ],
      "metadata": {
        "colab": {
          "base_uri": "https://localhost:8080/",
          "height": 206
        },
        "id": "-ehZeW8Jwhnx",
        "outputId": "0107ca5b-a0a1-4cf5-e37f-0f25c8c3d101"
      },
      "execution_count": null,
      "outputs": [
        {
          "output_type": "execute_result",
          "data": {
            "text/plain": [
              "                                              review sentiment\n",
              "0  One of the other reviewers has mentioned that ...  positive\n",
              "1  A wonderful little production. <br /><br />The...  positive\n",
              "2  I thought this was a wonderful way to spend ti...  positive\n",
              "3  Basically there's a family where a little boy ...  negative\n",
              "4  Petter Mattei's \"Love in the Time of Money\" is...  positive"
            ],
            "text/html": [
              "\n",
              "  <div id=\"df-e8c8040b-b373-4080-9041-22b5e86aa816\" class=\"colab-df-container\">\n",
              "    <div>\n",
              "<style scoped>\n",
              "    .dataframe tbody tr th:only-of-type {\n",
              "        vertical-align: middle;\n",
              "    }\n",
              "\n",
              "    .dataframe tbody tr th {\n",
              "        vertical-align: top;\n",
              "    }\n",
              "\n",
              "    .dataframe thead th {\n",
              "        text-align: right;\n",
              "    }\n",
              "</style>\n",
              "<table border=\"1\" class=\"dataframe\">\n",
              "  <thead>\n",
              "    <tr style=\"text-align: right;\">\n",
              "      <th></th>\n",
              "      <th>review</th>\n",
              "      <th>sentiment</th>\n",
              "    </tr>\n",
              "  </thead>\n",
              "  <tbody>\n",
              "    <tr>\n",
              "      <th>0</th>\n",
              "      <td>One of the other reviewers has mentioned that ...</td>\n",
              "      <td>positive</td>\n",
              "    </tr>\n",
              "    <tr>\n",
              "      <th>1</th>\n",
              "      <td>A wonderful little production. &lt;br /&gt;&lt;br /&gt;The...</td>\n",
              "      <td>positive</td>\n",
              "    </tr>\n",
              "    <tr>\n",
              "      <th>2</th>\n",
              "      <td>I thought this was a wonderful way to spend ti...</td>\n",
              "      <td>positive</td>\n",
              "    </tr>\n",
              "    <tr>\n",
              "      <th>3</th>\n",
              "      <td>Basically there's a family where a little boy ...</td>\n",
              "      <td>negative</td>\n",
              "    </tr>\n",
              "    <tr>\n",
              "      <th>4</th>\n",
              "      <td>Petter Mattei's \"Love in the Time of Money\" is...</td>\n",
              "      <td>positive</td>\n",
              "    </tr>\n",
              "  </tbody>\n",
              "</table>\n",
              "</div>\n",
              "    <div class=\"colab-df-buttons\">\n",
              "\n",
              "  <div class=\"colab-df-container\">\n",
              "    <button class=\"colab-df-convert\" onclick=\"convertToInteractive('df-e8c8040b-b373-4080-9041-22b5e86aa816')\"\n",
              "            title=\"Convert this dataframe to an interactive table.\"\n",
              "            style=\"display:none;\">\n",
              "\n",
              "  <svg xmlns=\"http://www.w3.org/2000/svg\" height=\"24px\" viewBox=\"0 -960 960 960\">\n",
              "    <path d=\"M120-120v-720h720v720H120Zm60-500h600v-160H180v160Zm220 220h160v-160H400v160Zm0 220h160v-160H400v160ZM180-400h160v-160H180v160Zm440 0h160v-160H620v160ZM180-180h160v-160H180v160Zm440 0h160v-160H620v160Z\"/>\n",
              "  </svg>\n",
              "    </button>\n",
              "\n",
              "  <style>\n",
              "    .colab-df-container {\n",
              "      display:flex;\n",
              "      gap: 12px;\n",
              "    }\n",
              "\n",
              "    .colab-df-convert {\n",
              "      background-color: #E8F0FE;\n",
              "      border: none;\n",
              "      border-radius: 50%;\n",
              "      cursor: pointer;\n",
              "      display: none;\n",
              "      fill: #1967D2;\n",
              "      height: 32px;\n",
              "      padding: 0 0 0 0;\n",
              "      width: 32px;\n",
              "    }\n",
              "\n",
              "    .colab-df-convert:hover {\n",
              "      background-color: #E2EBFA;\n",
              "      box-shadow: 0px 1px 2px rgba(60, 64, 67, 0.3), 0px 1px 3px 1px rgba(60, 64, 67, 0.15);\n",
              "      fill: #174EA6;\n",
              "    }\n",
              "\n",
              "    .colab-df-buttons div {\n",
              "      margin-bottom: 4px;\n",
              "    }\n",
              "\n",
              "    [theme=dark] .colab-df-convert {\n",
              "      background-color: #3B4455;\n",
              "      fill: #D2E3FC;\n",
              "    }\n",
              "\n",
              "    [theme=dark] .colab-df-convert:hover {\n",
              "      background-color: #434B5C;\n",
              "      box-shadow: 0px 1px 3px 1px rgba(0, 0, 0, 0.15);\n",
              "      filter: drop-shadow(0px 1px 2px rgba(0, 0, 0, 0.3));\n",
              "      fill: #FFFFFF;\n",
              "    }\n",
              "  </style>\n",
              "\n",
              "    <script>\n",
              "      const buttonEl =\n",
              "        document.querySelector('#df-e8c8040b-b373-4080-9041-22b5e86aa816 button.colab-df-convert');\n",
              "      buttonEl.style.display =\n",
              "        google.colab.kernel.accessAllowed ? 'block' : 'none';\n",
              "\n",
              "      async function convertToInteractive(key) {\n",
              "        const element = document.querySelector('#df-e8c8040b-b373-4080-9041-22b5e86aa816');\n",
              "        const dataTable =\n",
              "          await google.colab.kernel.invokeFunction('convertToInteractive',\n",
              "                                                    [key], {});\n",
              "        if (!dataTable) return;\n",
              "\n",
              "        const docLinkHtml = 'Like what you see? Visit the ' +\n",
              "          '<a target=\"_blank\" href=https://colab.research.google.com/notebooks/data_table.ipynb>data table notebook</a>'\n",
              "          + ' to learn more about interactive tables.';\n",
              "        element.innerHTML = '';\n",
              "        dataTable['output_type'] = 'display_data';\n",
              "        await google.colab.output.renderOutput(dataTable, element);\n",
              "        const docLink = document.createElement('div');\n",
              "        docLink.innerHTML = docLinkHtml;\n",
              "        element.appendChild(docLink);\n",
              "      }\n",
              "    </script>\n",
              "  </div>\n",
              "\n",
              "\n",
              "<div id=\"df-2c87b628-e81c-400b-8454-ed6bd7ae24b8\">\n",
              "  <button class=\"colab-df-quickchart\" onclick=\"quickchart('df-2c87b628-e81c-400b-8454-ed6bd7ae24b8')\"\n",
              "            title=\"Suggest charts\"\n",
              "            style=\"display:none;\">\n",
              "\n",
              "<svg xmlns=\"http://www.w3.org/2000/svg\" height=\"24px\"viewBox=\"0 0 24 24\"\n",
              "     width=\"24px\">\n",
              "    <g>\n",
              "        <path d=\"M19 3H5c-1.1 0-2 .9-2 2v14c0 1.1.9 2 2 2h14c1.1 0 2-.9 2-2V5c0-1.1-.9-2-2-2zM9 17H7v-7h2v7zm4 0h-2V7h2v10zm4 0h-2v-4h2v4z\"/>\n",
              "    </g>\n",
              "</svg>\n",
              "  </button>\n",
              "\n",
              "<style>\n",
              "  .colab-df-quickchart {\n",
              "      --bg-color: #E8F0FE;\n",
              "      --fill-color: #1967D2;\n",
              "      --hover-bg-color: #E2EBFA;\n",
              "      --hover-fill-color: #174EA6;\n",
              "      --disabled-fill-color: #AAA;\n",
              "      --disabled-bg-color: #DDD;\n",
              "  }\n",
              "\n",
              "  [theme=dark] .colab-df-quickchart {\n",
              "      --bg-color: #3B4455;\n",
              "      --fill-color: #D2E3FC;\n",
              "      --hover-bg-color: #434B5C;\n",
              "      --hover-fill-color: #FFFFFF;\n",
              "      --disabled-bg-color: #3B4455;\n",
              "      --disabled-fill-color: #666;\n",
              "  }\n",
              "\n",
              "  .colab-df-quickchart {\n",
              "    background-color: var(--bg-color);\n",
              "    border: none;\n",
              "    border-radius: 50%;\n",
              "    cursor: pointer;\n",
              "    display: none;\n",
              "    fill: var(--fill-color);\n",
              "    height: 32px;\n",
              "    padding: 0;\n",
              "    width: 32px;\n",
              "  }\n",
              "\n",
              "  .colab-df-quickchart:hover {\n",
              "    background-color: var(--hover-bg-color);\n",
              "    box-shadow: 0 1px 2px rgba(60, 64, 67, 0.3), 0 1px 3px 1px rgba(60, 64, 67, 0.15);\n",
              "    fill: var(--button-hover-fill-color);\n",
              "  }\n",
              "\n",
              "  .colab-df-quickchart-complete:disabled,\n",
              "  .colab-df-quickchart-complete:disabled:hover {\n",
              "    background-color: var(--disabled-bg-color);\n",
              "    fill: var(--disabled-fill-color);\n",
              "    box-shadow: none;\n",
              "  }\n",
              "\n",
              "  .colab-df-spinner {\n",
              "    border: 2px solid var(--fill-color);\n",
              "    border-color: transparent;\n",
              "    border-bottom-color: var(--fill-color);\n",
              "    animation:\n",
              "      spin 1s steps(1) infinite;\n",
              "  }\n",
              "\n",
              "  @keyframes spin {\n",
              "    0% {\n",
              "      border-color: transparent;\n",
              "      border-bottom-color: var(--fill-color);\n",
              "      border-left-color: var(--fill-color);\n",
              "    }\n",
              "    20% {\n",
              "      border-color: transparent;\n",
              "      border-left-color: var(--fill-color);\n",
              "      border-top-color: var(--fill-color);\n",
              "    }\n",
              "    30% {\n",
              "      border-color: transparent;\n",
              "      border-left-color: var(--fill-color);\n",
              "      border-top-color: var(--fill-color);\n",
              "      border-right-color: var(--fill-color);\n",
              "    }\n",
              "    40% {\n",
              "      border-color: transparent;\n",
              "      border-right-color: var(--fill-color);\n",
              "      border-top-color: var(--fill-color);\n",
              "    }\n",
              "    60% {\n",
              "      border-color: transparent;\n",
              "      border-right-color: var(--fill-color);\n",
              "    }\n",
              "    80% {\n",
              "      border-color: transparent;\n",
              "      border-right-color: var(--fill-color);\n",
              "      border-bottom-color: var(--fill-color);\n",
              "    }\n",
              "    90% {\n",
              "      border-color: transparent;\n",
              "      border-bottom-color: var(--fill-color);\n",
              "    }\n",
              "  }\n",
              "</style>\n",
              "\n",
              "  <script>\n",
              "    async function quickchart(key) {\n",
              "      const quickchartButtonEl =\n",
              "        document.querySelector('#' + key + ' button');\n",
              "      quickchartButtonEl.disabled = true;  // To prevent multiple clicks.\n",
              "      quickchartButtonEl.classList.add('colab-df-spinner');\n",
              "      try {\n",
              "        const charts = await google.colab.kernel.invokeFunction(\n",
              "            'suggestCharts', [key], {});\n",
              "      } catch (error) {\n",
              "        console.error('Error during call to suggestCharts:', error);\n",
              "      }\n",
              "      quickchartButtonEl.classList.remove('colab-df-spinner');\n",
              "      quickchartButtonEl.classList.add('colab-df-quickchart-complete');\n",
              "    }\n",
              "    (() => {\n",
              "      let quickchartButtonEl =\n",
              "        document.querySelector('#df-2c87b628-e81c-400b-8454-ed6bd7ae24b8 button');\n",
              "      quickchartButtonEl.style.display =\n",
              "        google.colab.kernel.accessAllowed ? 'block' : 'none';\n",
              "    })();\n",
              "  </script>\n",
              "</div>\n",
              "\n",
              "    </div>\n",
              "  </div>\n"
            ],
            "application/vnd.google.colaboratory.intrinsic+json": {
              "type": "dataframe",
              "variable_name": "df",
              "summary": "{\n  \"name\": \"df\",\n  \"rows\": 50000,\n  \"fields\": [\n    {\n      \"column\": \"review\",\n      \"properties\": {\n        \"dtype\": \"string\",\n        \"num_unique_values\": 49582,\n        \"samples\": [\n          \"\\\"Soul Plane\\\" is a horrible attempt at comedy that only should appeal people with thick skulls, bloodshot eyes and furry pawns. <br /><br />The plot is not only incoherent but also non-existent, acting is mostly sub sub-par with a gang of highly moronic and dreadful characters thrown in for bad measure, jokes are often spotted miles ahead and almost never even a bit amusing. This movie lacks any structure and is full of racial stereotypes that must have seemed old even in the fifties, the only thing it really has going for it is some pretty ladies, but really, if you want that you can rent something from the \\\"Adult\\\" section. OK?<br /><br />I can hardly see anything here to recommend since you'll probably have a lot a better and productive time chasing rats with a sledgehammer or inventing waterproof teabags or whatever.<br /><br />2/10\",\n          \"Guest from the Future tells a fascinating story of time travel, friendship, battle of good and evil -- all with a small budget, child actors, and few special effects. Something for Spielberg and Lucas to learn from. ;) A sixth-grader Kolya \\\"Nick\\\" Gerasimov finds a time machine in the basement of a decrepit building and travels 100 years into the future. He discovers a near-perfect, utopian society where robots play guitars and write poetry, everyone is kind to each other and people enjoy everything technology has to offer. Alice is the daughter of a prominent scientist who invented a device called Mielophone that allows to read minds of humans and animals. The device can be put to both good and bad use, depending on whose hands it falls into. When two evil space pirates from Saturn who want to rule the universe attempt to steal Mielophone, it falls into the hands of 20th century school boy Nick. With the pirates hot on his tracks, he travels back to his time, followed by the pirates, and Alice. Chaos, confusion and funny situations follow as the luckless pirates try to blend in with the earthlings. Alice enrolls in the same school Nick goes to and demonstrates superhuman abilities in PE class. The catch is, Alice doesn't know what Nick looks like, while the pirates do. Also, the pirates are able to change their appearance and turn literally into anyone. (Hmm, I wonder if this is where James Cameron got the idea for Terminator...) Who gets to Nick -- and Mielophone -- first? Excellent plot, non-stop adventures, and great soundtrack. I wish Hollywood made kid movies like this one...\",\n          \"\\\"National Treasure\\\" (2004) is a thoroughly misguided hodge-podge of plot entanglements that borrow from nearly every cloak and dagger government conspiracy clich\\u00e9 that has ever been written. The film stars Nicholas Cage as Benjamin Franklin Gates (how precious is that, I ask you?); a seemingly normal fellow who, for no other reason than being of a lineage of like-minded misguided fortune hunters, decides to steal a 'national treasure' that has been hidden by the United States founding fathers. After a bit of subtext and background that plays laughably (unintentionally) like Indiana Jones meets The Patriot, the film degenerates into one misguided whimsy after another \\u0096 attempting to create a 'Stanley Goodspeed' regurgitation of Nicholas Cage and launch the whole convoluted mess forward with a series of high octane, but disconnected misadventures.<br /><br />The relevancy and logic to having George Washington and his motley crew of patriots burying a king's ransom someplace on native soil, and then, going through the meticulous plan of leaving clues scattered throughout U.S. currency art work, is something that director Jon Turteltaub never quite gets around to explaining. Couldn't Washington found better usage for such wealth during the start up of the country? Hence, we are left with a mystery built on top of an enigma that is already on shaky ground by the time Ben appoints himself the new custodian of this untold wealth. Ben's intentions are noble \\u0096 if confusing. He's set on protecting the treasure. For who and when?\\u0085your guess is as good as mine.<br /><br />But there are a few problems with Ben's crusade. First up, his friend, Ian Holmes (Sean Bean) decides that he can't wait for Ben to make up his mind about stealing the Declaration of Independence from the National Archives (oh, yeah \\u0096 brilliant idea!). Presumably, the back of that famous document holds the secret answer to the ultimate fortune. So Ian tries to kill Ben. The assassination attempt is, of course, unsuccessful, if overly melodramatic. It also affords Ben the opportunity to pick up, and pick on, the very sultry curator of the archives, Abigail Chase (Diane Kruger). She thinks Ben is clearly a nut \\u0096 at least at the beginning. But true to action/romance form, Abby's resolve melts quicker than you can say, \\\"is that the Hope Diamond?\\\" The film moves into full X-File-ish mode, as the FBI, mistakenly believing that Ben is behind the theft, retaliate in various benign ways that lead to a multi-layering of action sequences reminiscent of Mission Impossible meets The Fugitive. Honestly, don't those guys ever get 'intelligence' information that is correct? In the final analysis, \\\"National Treasure\\\" isn't great film making, so much as it's a patchwork rehash of tired old bits from other movies, woven together from scraps, the likes of which would make IL' Betsy Ross blush.<br /><br />The Buena Vista DVD delivers a far more generous treatment than this film is deserving of. The anamorphic widescreen picture exhibits a very smooth and finely detailed image with very rich colors, natural flesh tones, solid blacks and clean whites. The stylized image is also free of blemishes and digital enhancements. The audio is 5.1 and delivers a nice sonic boom to your side and rear speakers with intensity and realism. Extras include a host of promotional junket material that is rather deep and over the top in its explanation of how and why this film was made. If only, as an audience, we had had more clarification as to why Ben and co. were chasing after an illusive treasure, this might have been one good flick. Extras conclude with the theatrical trailer, audio commentary and deleted scenes. Not for the faint-hearted \\u0096 just the thick-headed.\"\n        ],\n        \"semantic_type\": \"\",\n        \"description\": \"\"\n      }\n    },\n    {\n      \"column\": \"sentiment\",\n      \"properties\": {\n        \"dtype\": \"category\",\n        \"num_unique_values\": 2,\n        \"samples\": [\n          \"negative\",\n          \"positive\"\n        ],\n        \"semantic_type\": \"\",\n        \"description\": \"\"\n      }\n    }\n  ]\n}"
            }
          },
          "metadata": {},
          "execution_count": 4
        }
      ]
    },
    {
      "cell_type": "code",
      "source": [
        "df.info()"
      ],
      "metadata": {
        "colab": {
          "base_uri": "https://localhost:8080/"
        },
        "id": "SmGMQv7DwxNR",
        "outputId": "1b0fe467-75e4-4245-fd10-555078a896b6"
      },
      "execution_count": null,
      "outputs": [
        {
          "output_type": "stream",
          "name": "stdout",
          "text": [
            "<class 'pandas.core.frame.DataFrame'>\n",
            "RangeIndex: 50000 entries, 0 to 49999\n",
            "Data columns (total 2 columns):\n",
            " #   Column     Non-Null Count  Dtype \n",
            "---  ------     --------------  ----- \n",
            " 0   review     50000 non-null  object\n",
            " 1   sentiment  50000 non-null  object\n",
            "dtypes: object(2)\n",
            "memory usage: 781.4+ KB\n"
          ]
        }
      ]
    },
    {
      "cell_type": "code",
      "source": [
        "df['sentiment'].value_counts()"
      ],
      "metadata": {
        "colab": {
          "base_uri": "https://localhost:8080/"
        },
        "id": "qOpws3a0w-li",
        "outputId": "12582107-ba06-4065-cc8e-86e7f9e677dd"
      },
      "execution_count": null,
      "outputs": [
        {
          "output_type": "execute_result",
          "data": {
            "text/plain": [
              "sentiment\n",
              "positive    25000\n",
              "negative    25000\n",
              "Name: count, dtype: int64"
            ]
          },
          "metadata": {},
          "execution_count": 6
        }
      ]
    },
    {
      "cell_type": "markdown",
      "source": [
        "Nhận xét: dữ liệu cân bằng với cả \"negative\" và \"positive\""
      ],
      "metadata": {
        "id": "ps6-9GIAw2kQ"
      }
    },
    {
      "cell_type": "code",
      "source": [
        "df['review'][1]"
      ],
      "metadata": {
        "colab": {
          "base_uri": "https://localhost:8080/",
          "height": 140
        },
        "id": "30cr_sp9myTn",
        "outputId": "86235b80-2ef5-4704-c4e6-902b05d289fa"
      },
      "execution_count": null,
      "outputs": [
        {
          "output_type": "execute_result",
          "data": {
            "text/plain": [
              "'A wonderful little production. <br /><br />The filming technique is very unassuming- very old-time-BBC fashion and gives a comforting, and sometimes discomforting, sense of realism to the entire piece. <br /><br />The actors are extremely well chosen- Michael Sheen not only \"has got all the polari\" but he has all the voices down pat too! You can truly see the seamless editing guided by the references to Williams\\' diary entries, not only is it well worth the watching but it is a terrificly written and performed piece. A masterful production about one of the great master\\'s of comedy and his life. <br /><br />The realism really comes home with the little things: the fantasy of the guard which, rather than use the traditional \\'dream\\' techniques remains solid then disappears. It plays on our knowledge and our senses, particularly with the scenes concerning Orton and Halliwell and the sets (particularly of their flat with Halliwell\\'s murals decorating every surface) are terribly well done.'"
            ],
            "application/vnd.google.colaboratory.intrinsic+json": {
              "type": "string"
            }
          },
          "metadata": {},
          "execution_count": 7
        }
      ]
    },
    {
      "cell_type": "markdown",
      "source": [
        "Thực hiện xóa những html tags và những nội dung trong dấu ngoặc vuông"
      ],
      "metadata": {
        "id": "gTX7jCzYw9pF"
      }
    },
    {
      "cell_type": "code",
      "source": [
        "from bs4 import BeautifulSoup\n",
        "def xoa_html(text):\n",
        "    soup = BeautifulSoup(text, \"html.parser\")\n",
        "    return soup.get_text()\n",
        "\n",
        "def xoa_dau_ngoac(text):\n",
        "    return re.sub('\\[[^]]*\\]', '', text)\n",
        "\n",
        "def denoise_text(text):\n",
        "    text = xoa_html(text)\n",
        "    text = xoa_dau_ngoac(text)\n",
        "    return text\n",
        "\n",
        "df['review']=df['review'].apply(denoise_text)"
      ],
      "metadata": {
        "colab": {
          "base_uri": "https://localhost:8080/"
        },
        "id": "WZKGyMhpzkgj",
        "outputId": "a92e8132-dc71-4f6a-d581-17b24a1cad0c"
      },
      "execution_count": null,
      "outputs": [
        {
          "output_type": "stream",
          "name": "stderr",
          "text": [
            "<ipython-input-8-69edd58c9e71>:3: MarkupResemblesLocatorWarning: The input looks more like a filename than markup. You may want to open this file and pass the filehandle into Beautiful Soup.\n",
            "  soup = BeautifulSoup(text, \"html.parser\")\n"
          ]
        }
      ]
    },
    {
      "cell_type": "markdown",
      "source": [
        "Xóa tiếp những kí tự không phải là chữ cái và chữ số"
      ],
      "metadata": {
        "id": "LfxjKvoVxISa"
      }
    },
    {
      "cell_type": "code",
      "source": [
        "def xoa_ki_tu(text, remove_digits=True):\n",
        "    pattern=r'[^a-zA-z0-9\\s]'\n",
        "    text=re.sub(pattern,'',text)\n",
        "    return text\n",
        "\n",
        "df['review'] = df['review'].apply(xoa_ki_tu)\n",
        "df['review'][1]"
      ],
      "metadata": {
        "id": "dJ9U7L_uGhOS",
        "colab": {
          "base_uri": "https://localhost:8080/",
          "height": 140
        },
        "outputId": "b1b01fd3-60f8-4b0f-a8b5-9cf79d74576e"
      },
      "execution_count": null,
      "outputs": [
        {
          "output_type": "execute_result",
          "data": {
            "text/plain": [
              "'A wonderful little production The filming technique is very unassuming very oldtimeBBC fashion and gives a comforting and sometimes discomforting sense of realism to the entire piece The actors are extremely well chosen Michael Sheen not only has got all the polari but he has all the voices down pat too You can truly see the seamless editing guided by the references to Williams diary entries not only is it well worth the watching but it is a terrificly written and performed piece A masterful production about one of the great masters of comedy and his life The realism really comes home with the little things the fantasy of the guard which rather than use the traditional dream techniques remains solid then disappears It plays on our knowledge and our senses particularly with the scenes concerning Orton and Halliwell and the sets particularly of their flat with Halliwells murals decorating every surface are terribly well done'"
            ],
            "application/vnd.google.colaboratory.intrinsic+json": {
              "type": "string"
            }
          },
          "metadata": {},
          "execution_count": 9
        }
      ]
    },
    {
      "cell_type": "markdown",
      "source": [
        "Loại bỏ các stopwords để giảm bớt kích thước dữ liệu"
      ],
      "metadata": {
        "id": "El9dGbDWxOgL"
      }
    },
    {
      "cell_type": "code",
      "source": [
        "nltk.download('stopwords')\n",
        "from nltk.corpus import stopwords\n",
        "stop_words = set(stopwords.words('english'))\n",
        "df['review'] = df['review'].apply(lambda x: ' '.join([word for word in x.split() if word not in (stop_words)]))\n",
        "df['review'][1]"
      ],
      "metadata": {
        "colab": {
          "base_uri": "https://localhost:8080/",
          "height": 140
        },
        "id": "QM3rM1_coRPW",
        "outputId": "14d0ccc5-6b11-4657-b966-65acae74e4b0"
      },
      "execution_count": null,
      "outputs": [
        {
          "output_type": "stream",
          "name": "stderr",
          "text": [
            "[nltk_data] Downloading package stopwords to /root/nltk_data...\n",
            "[nltk_data]   Package stopwords is already up-to-date!\n"
          ]
        },
        {
          "output_type": "execute_result",
          "data": {
            "text/plain": [
              "'A wonderful little production The filming technique unassuming oldtimeBBC fashion gives comforting sometimes discomforting sense realism entire piece The actors extremely well chosen Michael Sheen got polari voices pat You truly see seamless editing guided references Williams diary entries well worth watching terrificly written performed piece A masterful production one great masters comedy life The realism really comes home little things fantasy guard rather use traditional dream techniques remains solid disappears It plays knowledge senses particularly scenes concerning Orton Halliwell sets particularly flat Halliwells murals decorating every surface terribly well done'"
            ],
            "application/vnd.google.colaboratory.intrinsic+json": {
              "type": "string"
            }
          },
          "metadata": {},
          "execution_count": 10
        }
      ]
    },
    {
      "cell_type": "markdown",
      "source": [
        "Lemmatize văn bản"
      ],
      "metadata": {
        "id": "UtxP_OpsxgZC"
      }
    },
    {
      "cell_type": "code",
      "source": [
        "nltk.download('wordnet')\n",
        "w_tokenizer = nltk.tokenize.WhitespaceTokenizer()\n",
        "lemmatizer = nltk.stem.WordNetLemmatizer()\n",
        "def lemmatize_text(text):\n",
        "    st = \"\"\n",
        "    for w in w_tokenizer.tokenize(text):\n",
        "        st = st + lemmatizer.lemmatize(w) + \" \"\n",
        "    return st\n",
        "df['review'] = df.review.apply(lemmatize_text)\n",
        "df['review'][1]"
      ],
      "metadata": {
        "colab": {
          "base_uri": "https://localhost:8080/",
          "height": 140
        },
        "id": "i36k6xczqnLN",
        "outputId": "f2321915-43a3-4356-9bfc-47788d35d3cd"
      },
      "execution_count": null,
      "outputs": [
        {
          "output_type": "stream",
          "name": "stderr",
          "text": [
            "[nltk_data] Downloading package wordnet to /root/nltk_data...\n",
            "[nltk_data]   Package wordnet is already up-to-date!\n"
          ]
        },
        {
          "output_type": "execute_result",
          "data": {
            "text/plain": [
              "'A wonderful little production The filming technique unassuming oldtimeBBC fashion give comforting sometimes discomforting sense realism entire piece The actor extremely well chosen Michael Sheen got polari voice pat You truly see seamless editing guided reference Williams diary entry well worth watching terrificly written performed piece A masterful production one great master comedy life The realism really come home little thing fantasy guard rather use traditional dream technique remains solid disappears It play knowledge sens particularly scene concerning Orton Halliwell set particularly flat Halliwells mural decorating every surface terribly well done '"
            ],
            "application/vnd.google.colaboratory.intrinsic+json": {
              "type": "string"
            }
          },
          "metadata": {},
          "execution_count": 11
        }
      ]
    },
    {
      "cell_type": "markdown",
      "source": [
        "Chia bộ dữ liệu thành các tập train và test sau đó kiểm tra độ cân bằng của bộ dữ liệu"
      ],
      "metadata": {
        "id": "lDZOFxGExjLD"
      }
    },
    {
      "cell_type": "code",
      "source": [
        "X_train = df['review'][:40000]\n",
        "y_train = df['sentiment'][:40000]\n",
        "X_test = df['review'][40000:]\n",
        "y_test = df['sentiment'][40000:]\n",
        "print(y_train.value_counts(), y_test.value_counts())"
      ],
      "metadata": {
        "colab": {
          "base_uri": "https://localhost:8080/"
        },
        "id": "TpSFEIwxst73",
        "outputId": "50316338-1ca2-4b27-8bcd-feb364a03935"
      },
      "execution_count": null,
      "outputs": [
        {
          "output_type": "stream",
          "name": "stdout",
          "text": [
            "sentiment\n",
            "negative    20007\n",
            "positive    19993\n",
            "Name: count, dtype: int64 sentiment\n",
            "positive    5007\n",
            "negative    4993\n",
            "Name: count, dtype: int64\n"
          ]
        }
      ]
    },
    {
      "cell_type": "markdown",
      "source": [
        "Bộ train và test khá cân bằng"
      ],
      "metadata": {
        "id": "HOsiG4v4xqhK"
      }
    },
    {
      "cell_type": "markdown",
      "source": [
        "# 2. Feature Extraction"
      ],
      "metadata": {
        "id": "TgihjBmcOQ8l"
      }
    },
    {
      "cell_type": "markdown",
      "source": [
        "## a. Bow\n"
      ],
      "metadata": {
        "id": "QvgNTb8cOS2u"
      }
    },
    {
      "cell_type": "code",
      "source": [
        "from sklearn.feature_extraction.text import CountVectorizer\n",
        "\n",
        "# Tạo đối tượng CountVectorizer\n",
        "vectorizer = CountVectorizer(max_features=5000)  # Giới hạn số lượng từ đặc trưng\n",
        "\n",
        "# Áp dụng BoW lên dữ liệu huấn luyện và kiểm tra\n",
        "X_train_bow = vectorizer.fit_transform(X_train)\n",
        "X_test_bow = vectorizer.transform(X_test)\n",
        "\n",
        "print(\"BoW X_train shape:\", X_train_bow.shape)\n",
        "print(\"BoW X_test shape:\", X_test_bow.shape)"
      ],
      "metadata": {
        "id": "EtLPMbBFOU6m",
        "colab": {
          "base_uri": "https://localhost:8080/"
        },
        "outputId": "08e2ff41-283d-46ac-b7b1-189f96390767"
      },
      "execution_count": null,
      "outputs": [
        {
          "output_type": "stream",
          "name": "stdout",
          "text": [
            "BoW X_train shape: (40000, 5000)\n",
            "BoW X_test shape: (10000, 5000)\n"
          ]
        }
      ]
    },
    {
      "cell_type": "markdown",
      "source": [
        "## b. TF-IDF"
      ],
      "metadata": {
        "id": "TalJtk3aOZTR"
      }
    },
    {
      "cell_type": "code",
      "source": [
        "from sklearn.feature_extraction.text import TfidfVectorizer\n",
        "\n",
        "# Tạo đối tượng TfidfVectorizer\n",
        "tfidf_vectorizer = TfidfVectorizer(max_features=5000)\n",
        "\n",
        "# Áp dụng TF-IDF lên dữ liệu huấn luyện và kiểm tra\n",
        "X_train_tfidf = tfidf_vectorizer.fit_transform(X_train)\n",
        "X_test_tfidf = tfidf_vectorizer.transform(X_test)\n",
        "\n",
        "print(\"TF-IDF X_train shape:\", X_train_tfidf.shape)\n",
        "print(\"TF-IDF X_test shape:\", X_test_tfidf.shape)"
      ],
      "metadata": {
        "id": "d8mc_HkEOVAL",
        "colab": {
          "base_uri": "https://localhost:8080/"
        },
        "outputId": "28d9e661-825a-4cf2-b310-5f1c84aba227"
      },
      "execution_count": null,
      "outputs": [
        {
          "output_type": "stream",
          "name": "stdout",
          "text": [
            "TF-IDF X_train shape: (40000, 5000)\n",
            "TF-IDF X_test shape: (10000, 5000)\n"
          ]
        }
      ]
    },
    {
      "cell_type": "markdown",
      "source": [
        "## c. Word Embeddings\n"
      ],
      "metadata": {
        "id": "x3FaH_k3OhxK"
      }
    },
    {
      "cell_type": "code",
      "source": [
        "from gensim.models import Word2Vec\n",
        "\n",
        "# Chuẩn bị dữ liệu cho Word2Vec\n",
        "sentences = [text.split() for text in df['review']]\n",
        "\n",
        "# Huấn luyện mô hình Word2Vec\n",
        "word2vec_model = Word2Vec(sentences, vector_size=100, window=5, min_count=1, workers=4)\n",
        "\n",
        "# Lấy vector embedding cho mỗi từ\n",
        "def get_embedding_vector(word):\n",
        "    if word in word2vec_model.wv:\n",
        "        return word2vec_model.wv[word]\n",
        "    else:\n",
        "        return np.zeros(word2vec_model.vector_size)\n",
        "\n",
        "# Hàm để tạo vector cho mỗi review\n",
        "def get_sentence_embedding(text):\n",
        "    words = text.split()\n",
        "    vectors = [get_embedding_vector(word) for word in words]\n",
        "    if vectors:\n",
        "        return np.mean(vectors, axis=0)\n",
        "    else:\n",
        "        return np.zeros(word2vec_model.vector_size)\n",
        "\n",
        "# Áp dụng Word2Vec lên dữ liệu huấn luyện và kiểm tra\n",
        "X_train_word2vec = np.array([get_sentence_embedding(text) for text in X_train])\n",
        "X_test_word2vec = np.array([get_sentence_embedding(text) for text in X_test])\n",
        "\n",
        "print(\"Embeddings X_train shape:\", X_train_word2vec.shape)\n",
        "print(\"Embeddings X_test shape:\", X_test_word2vec.shape)"
      ],
      "metadata": {
        "id": "l5UA_TIfOk0d",
        "colab": {
          "base_uri": "https://localhost:8080/"
        },
        "outputId": "4342e2d2-8085-4fb2-8664-e4e6a2d96c82"
      },
      "execution_count": null,
      "outputs": [
        {
          "output_type": "stream",
          "name": "stdout",
          "text": [
            "Embeddings X_train shape: (40000, 100)\n",
            "Embeddings X_test shape: (10000, 100)\n"
          ]
        }
      ]
    },
    {
      "cell_type": "markdown",
      "source": [
        "Bạn có thể sử dụng hoặc thử cả 3 cách biểu diễn trên để train model\n"
      ],
      "metadata": {
        "id": "8lykCVftRd_l"
      }
    },
    {
      "cell_type": "markdown",
      "source": [
        "# 3. Training and Evaluating model"
      ],
      "metadata": {
        "id": "uhodhAqTICs3"
      }
    },
    {
      "cell_type": "code",
      "source": [
        "from sklearn.linear_model import LogisticRegression\n",
        "from sklearn.svm import SVC\n",
        "from sklearn.metrics import classification_report, accuracy_score"
      ],
      "metadata": {
        "id": "zS54P_tdH__O"
      },
      "execution_count": null,
      "outputs": []
    },
    {
      "cell_type": "markdown",
      "source": [
        "## a. Bow"
      ],
      "metadata": {
        "id": "PsaiHQEp4iqI"
      }
    },
    {
      "cell_type": "code",
      "source": [
        "# Logistic Regression\n",
        "logreg_bow = LogisticRegression(max_iter=1000)\n",
        "logreg_bow.fit(X_train_bow, y_train)\n",
        "\n",
        "y_pred_logreg_bow = logreg_bow.predict(X_test_bow)\n",
        "print(\"Logistic Regression (Bow) Accuracy:\", accuracy_score(y_test, y_pred_logreg_bow))\n",
        "print(\"Logistic Regression (Bow) Classification Report:\")\n",
        "print(classification_report(y_test, y_pred_logreg_bow))"
      ],
      "metadata": {
        "id": "99ZHUXzSk5UM",
        "colab": {
          "base_uri": "https://localhost:8080/"
        },
        "outputId": "be266967-7bd7-4963-9bf1-28e3d0536079"
      },
      "execution_count": null,
      "outputs": [
        {
          "output_type": "stream",
          "name": "stdout",
          "text": [
            "Logistic Regression (Bow) Accuracy: 0.8726\n",
            "Logistic Regression (Bow) Classification Report:\n",
            "              precision    recall  f1-score   support\n",
            "\n",
            "    negative       0.87      0.87      0.87      4993\n",
            "    positive       0.87      0.87      0.87      5007\n",
            "\n",
            "    accuracy                           0.87     10000\n",
            "   macro avg       0.87      0.87      0.87     10000\n",
            "weighted avg       0.87      0.87      0.87     10000\n",
            "\n"
          ]
        }
      ]
    },
    {
      "cell_type": "markdown",
      "source": [
        "--Số liệu dương và âm của precision, recall, f1-score trong mô hình Logistic Regression đều có số liệu tương đương nhau."
      ],
      "metadata": {
        "id": "JLhNDnrwQp9F"
      }
    },
    {
      "cell_type": "markdown",
      "source": [
        "Đánh giá: Không quá tốn thời gian"
      ],
      "metadata": {
        "id": "9Ui_83-kojR8"
      }
    },
    {
      "cell_type": "code",
      "source": [
        "# SVM\n",
        "svm_bow = SVC()\n",
        "svm_bow.fit(X_train_bow, y_train)\n",
        "\n",
        "y_pred_svm_bow = svm_bow.predict(X_test_bow)\n",
        "print(\"SVM (Bow) Accuracy:\", accuracy_score(y_test, y_pred_svm_bow))\n",
        "print(\"SVM (Bow) Classification Report:\")\n",
        "print(classification_report(y_test, y_pred_svm_bow))"
      ],
      "metadata": {
        "id": "yX75Pa5Tk8hp",
        "colab": {
          "base_uri": "https://localhost:8080/"
        },
        "outputId": "2649b14c-1fd7-4530-b620-c05c253c949e"
      },
      "execution_count": null,
      "outputs": [
        {
          "output_type": "stream",
          "name": "stdout",
          "text": [
            "SVM (Bow) Accuracy: 0.8746\n",
            "SVM (Bow) Classification Report:\n",
            "              precision    recall  f1-score   support\n",
            "\n",
            "    negative       0.89      0.86      0.87      4993\n",
            "    positive       0.86      0.89      0.88      5007\n",
            "\n",
            "    accuracy                           0.87     10000\n",
            "   macro avg       0.88      0.87      0.87     10000\n",
            "weighted avg       0.88      0.87      0.87     10000\n",
            "\n"
          ]
        }
      ]
    },
    {
      "cell_type": "markdown",
      "source": [
        "Tốn cỡ 40 phút"
      ],
      "metadata": {
        "id": "CqQoZFox4pQ4"
      }
    },
    {
      "cell_type": "markdown",
      "source": [
        "-Số liệu dương và âm của precision, recall, f1-score trong mô hình SVM đều có số liệu tương đương nhau."
      ],
      "metadata": {
        "id": "MEVlAGLGQwjJ"
      }
    },
    {
      "cell_type": "markdown",
      "source": [
        "## b. TF-IDF"
      ],
      "metadata": {
        "id": "QMhlYHKw4xxU"
      }
    },
    {
      "cell_type": "code",
      "source": [
        "# Logistic Regression\n",
        "logreg_tfidf = LogisticRegression(max_iter=1000)\n",
        "logreg_tfidf.fit(X_train_tfidf, y_train)\n",
        "\n",
        "y_pred_logreg_tfidf = logreg_tfidf.predict(X_test_tfidf)\n",
        "print(\"Logistic Regression (TF-IDF) Accuracy:\", accuracy_score(y_test, y_pred_logreg_tfidf))\n",
        "print(\"Logistic Regression (TF-IDF) Classification Report:\")\n",
        "print(classification_report(y_test, y_pred_logreg_tfidf))"
      ],
      "metadata": {
        "id": "X9C0CDXglCKD",
        "colab": {
          "base_uri": "https://localhost:8080/"
        },
        "outputId": "7eefa807-c477-4da2-f92d-3f6b465d00d5"
      },
      "execution_count": null,
      "outputs": [
        {
          "output_type": "stream",
          "name": "stdout",
          "text": [
            "Logistic Regression (TF-IDF) Accuracy: 0.8861\n",
            "Logistic Regression (TF-IDF) Classification Report:\n",
            "              precision    recall  f1-score   support\n",
            "\n",
            "    negative       0.89      0.88      0.89      4993\n",
            "    positive       0.88      0.89      0.89      5007\n",
            "\n",
            "    accuracy                           0.89     10000\n",
            "   macro avg       0.89      0.89      0.89     10000\n",
            "weighted avg       0.89      0.89      0.89     10000\n",
            "\n"
          ]
        }
      ]
    },
    {
      "cell_type": "markdown",
      "source": [
        "-Số liệu dương và âm của precision, recall, f1-score trong mô hình Logistic Regression đều có số liệu tương đương nhau."
      ],
      "metadata": {
        "id": "KC5jEvwzPmWZ"
      }
    },
    {
      "cell_type": "code",
      "source": [
        "# SVM\n",
        "svm_tfidf = SVC()\n",
        "svm_tfidf.fit(X_train_tfidf, y_train)\n",
        "y_pred_svm_tfidf = svm_tfidf.predict(X_test_tfidf)\n",
        "\n",
        "print(\"SVM (TF-IDF) Accuracy:\", accuracy_score(y_test, y_pred_svm_tfidf))\n",
        "print(\"SVM (TF-IDF) Classification Report:\")\n",
        "print(classification_report(y_test, y_pred_svm_tfidf))"
      ],
      "metadata": {
        "id": "MjGWn2ywlI27",
        "colab": {
          "base_uri": "https://localhost:8080/"
        },
        "outputId": "7f570948-7f60-48e0-ae09-c28405409b5e"
      },
      "execution_count": null,
      "outputs": [
        {
          "output_type": "stream",
          "name": "stdout",
          "text": [
            "SVM (TF-IDF) Accuracy: 0.8884\n",
            "SVM (TF-IDF) Classification Report:\n",
            "              precision    recall  f1-score   support\n",
            "\n",
            "    negative       0.89      0.88      0.89      4993\n",
            "    positive       0.88      0.89      0.89      5007\n",
            "\n",
            "    accuracy                           0.89     10000\n",
            "   macro avg       0.89      0.89      0.89     10000\n",
            "weighted avg       0.89      0.89      0.89     10000\n",
            "\n"
          ]
        }
      ]
    },
    {
      "cell_type": "markdown",
      "source": [
        "-Số liệu dương và âm của precision, recall, f1-score trong mô hình SVM đều có số liệu tương đương nhau."
      ],
      "metadata": {
        "id": "PVeDn2y-QL0r"
      }
    },
    {
      "cell_type": "markdown",
      "source": [
        "## c. Word2Vec Embeddings"
      ],
      "metadata": {
        "id": "VOlEUZfB45Jy"
      }
    },
    {
      "cell_type": "code",
      "source": [
        "# Logistic Regression\n",
        "logreg_word2vec = LogisticRegression(max_iter=1000)\n",
        "logreg_word2vec.fit(X_train_word2vec, y_train)\n",
        "\n",
        "y_pred_logreg_word2vec = logreg_word2vec.predict(X_test_word2vec)\n",
        "print(\"Logistic Regression (Word2Vec) Accuracy:\", accuracy_score(y_test, y_pred_logreg_word2vec))\n",
        "print(\"Logistic Regression (Word2Vec) Classification Report:\")\n",
        "print(classification_report(y_test, y_pred_logreg_word2vec))"
      ],
      "metadata": {
        "id": "f4nK0L8OlLwt",
        "colab": {
          "base_uri": "https://localhost:8080/"
        },
        "outputId": "c56472d1-add2-4cee-bc3c-1bf8b271c549"
      },
      "execution_count": null,
      "outputs": [
        {
          "output_type": "stream",
          "name": "stdout",
          "text": [
            "Logistic Regression (Word2Vec) Accuracy: 0.8535\n",
            "Logistic Regression (Word2Vec) Classification Report:\n",
            "              precision    recall  f1-score   support\n",
            "\n",
            "    negative       0.86      0.85      0.85      4993\n",
            "    positive       0.85      0.86      0.85      5007\n",
            "\n",
            "    accuracy                           0.85     10000\n",
            "   macro avg       0.85      0.85      0.85     10000\n",
            "weighted avg       0.85      0.85      0.85     10000\n",
            "\n"
          ]
        }
      ]
    },
    {
      "cell_type": "markdown",
      "source": [
        "-Số liệu dương và âm của precision, recall, f1-score trong mô hình Logistic Regression đều có số liệu tương đương nhau."
      ],
      "metadata": {
        "id": "V3b2bF8KQ21r"
      }
    },
    {
      "cell_type": "code",
      "source": [
        "# SVM\n",
        "svm_word2vec = SVC()\n",
        "svm_word2vec.fit(X_train_word2vec, y_train)\n",
        "\n",
        "y_pred_svm_word2vec = svm_word2vec.predict(X_test_word2vec)\n",
        "print(\"SVM (Word2Vec) Accuracy:\", accuracy_score(y_test, y_pred_svm_word2vec))\n",
        "print(\"SVM (Word2Vec) Classification Report:\")\n",
        "print(classification_report(y_test, y_pred_svm_word2vec))"
      ],
      "metadata": {
        "id": "6jwxeu0flNub",
        "colab": {
          "base_uri": "https://localhost:8080/"
        },
        "outputId": "97685979-62ba-4825-abc5-87ddee4aa35b"
      },
      "execution_count": null,
      "outputs": [
        {
          "output_type": "stream",
          "name": "stdout",
          "text": [
            "SVM (Word2Vec) Accuracy: 0.8575\n",
            "SVM (Word2Vec) Classification Report:\n",
            "              precision    recall  f1-score   support\n",
            "\n",
            "    negative       0.86      0.85      0.86      4993\n",
            "    positive       0.86      0.86      0.86      5007\n",
            "\n",
            "    accuracy                           0.86     10000\n",
            "   macro avg       0.86      0.86      0.86     10000\n",
            "weighted avg       0.86      0.86      0.86     10000\n",
            "\n"
          ]
        }
      ]
    },
    {
      "cell_type": "markdown",
      "source": [
        "-Số liệu dương và âm của precision, recall, f1-score trong mô hình SVM đều có số liệu tương đương nhau."
      ],
      "metadata": {
        "id": "uhVK_cE0Q0iq"
      }
    }
  ]
}