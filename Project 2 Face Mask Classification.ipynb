{
  "nbformat": 4,
  "nbformat_minor": 0,
  "metadata": {
    "colab": {
      "provenance": []
    },
    "kernelspec": {
      "name": "python3",
      "display_name": "Python 3"
    },
    "language_info": {
      "name": "python"
    }
  },
  "cells": [
    {
      "cell_type": "markdown",
      "source": [
        "# **1.Tải dữ liệu**"
      ],
      "metadata": {
        "id": "fb_Ebrv8LUV7"
      }
    },
    {
      "cell_type": "code",
      "execution_count": null,
      "metadata": {
        "id": "Tv585aCtLRck"
      },
      "outputs": [],
      "source": [
        "import zipfile, cv2, torch, os, shutil, random\n",
        "import numpy as np\n",
        "from PIL import Image\n",
        "from google.colab import files"
      ]
    },
    {
      "cell_type": "code",
      "source": [
        "!gdown '1R71pcVzLo3ja3XIZImrjYItsk9NwuTWu'\n",
        "!unzip 'mask.zip'"
      ],
      "metadata": {
        "id": "7wIqV3K2LcRk",
        "colab": {
          "base_uri": "https://localhost:8080/"
        },
        "outputId": "271d0adc-3344-440b-d3a0-433b16d7156b"
      },
      "execution_count": null,
      "outputs": [
        {
          "output_type": "stream",
          "name": "stdout",
          "text": [
            "Downloading...\n",
            "From (original): https://drive.google.com/uc?id=1R71pcVzLo3ja3XIZImrjYItsk9NwuTWu\n",
            "From (redirected): https://drive.google.com/uc?id=1R71pcVzLo3ja3XIZImrjYItsk9NwuTWu&confirm=t&uuid=368be8dc-f87a-4a6b-98a1-b43984e9696b\n",
            "To: /content/mask.zip\n",
            "100% 233M/233M [00:01<00:00, 131MB/s]\n",
            "Archive:  mask.zip\n",
            "replace Dataset/mask_weared_incorrect/1.png? [y]es, [n]o, [A]ll, [N]one, [r]ename: "
          ]
        }
      ]
    },
    {
      "cell_type": "code",
      "source": [
        "from google.colab import drive\n",
        "drive.mount('/content/drive')"
      ],
      "metadata": {
        "id": "jvr4AzhqLeki",
        "colab": {
          "base_uri": "https://localhost:8080/"
        },
        "outputId": "7e6b82b1-6d01-4ce6-b342-d59192e7c607"
      },
      "execution_count": null,
      "outputs": [
        {
          "output_type": "stream",
          "name": "stdout",
          "text": [
            "Drive already mounted at /content/drive; to attempt to forcibly remount, call drive.mount(\"/content/drive\", force_remount=True).\n"
          ]
        }
      ]
    },
    {
      "cell_type": "code",
      "source": [
        "# Các đường dẫn tới thư mục chứa ảnh\n",
        "with_mask_path = 'Dataset/with_mask/'\n",
        "without_mask_path = 'Dataset/without_mask/'\n",
        "mask_weared_incorrect_path = 'Dataset/mask_weared_incorrect'"
      ],
      "metadata": {
        "id": "iiG5eG_qLgUq"
      },
      "execution_count": null,
      "outputs": []
    },
    {
      "cell_type": "markdown",
      "source": [
        "# **2. Data augmentation**"
      ],
      "metadata": {
        "id": "CBT7UNkQLh_X"
      }
    },
    {
      "cell_type": "code",
      "source": [
        "def random_brightness(image):\n",
        "    hsv = cv2.cvtColor(image, cv2.COLOR_BGR2HSV)\n",
        "    value = random.uniform(0.8, 1.2)\n",
        "    hsv[:,:,2] = hsv[:,:,2] * value\n",
        "    hsv[:,:,2][hsv[:,:,2] > 255] = 255\n",
        "    return cv2.cvtColor(hsv, cv2.COLOR_HSV2BGR)\n",
        "\"\"\"\n",
        "Mục đích: Điều chỉnh độ sáng của hình ảnh ngẫu nhiên trong khoảng từ 0.8 đến 1.2 lần so với độ sáng ban đầu.\n",
        "Các bước thực hiện:\n",
        "Chuyển đổi ảnh từ không gian màu BGR sang HSV.\n",
        "Tạo một giá trị ngẫu nhiên trong khoảng từ 0.8 đến 1.2 và nhân giá trị V (độ sáng) với giá trị này.\n",
        "Đảm bảo giá trị V không vượt quá 255 để tránh làm mất thông tin.\n",
        "Chuyển đổi lại từ không gian màu HSV về BGR.\n",
        "\"\"\"\n",
        "\n",
        "def random_rotation(image):\n",
        "    angle = random.uniform(-10, 10)\n",
        "    h, w = image.shape[:2]\n",
        "    center = (w // 2, h // 2)\n",
        "    M = cv2.getRotationMatrix2D(center, angle, 1.0)\n",
        "    return cv2.warpAffine(image, M, (w, h))\n",
        "\"\"\"\n",
        "Mục đích: Xoay ảnh một góc ngẫu nhiên trong khoảng ±10 độ.\n",
        "Các bước thực hiện:\n",
        "Tạo một góc ngẫu nhiên trong khoảng từ -10 đến 10 độ.\n",
        "Tính ma trận xoay dựa trên góc này và trung tâm của ảnh.\n",
        "Áp dụng ma trận xoay này để xoay ảnh.\n",
        "\"\"\"\n",
        "\n",
        "def random_blur(image):\n",
        "    if random.random() < 0.3:  # 30% xác suất áp dụng làm mờ\n",
        "        ksize = random.choice([(3, 3), (5, 5)])\n",
        "        return cv2.GaussianBlur(image, ksize, 0)\n",
        "    else:\n",
        "        return image\n",
        "\"\"\"\n",
        "Mục đích: Làm mờ ảnh ngẫu nhiên bằng cách áp dụng Gaussian Blur.\n",
        "Các bước thực hiện:\n",
        "Nếu giá trị ngẫu nhiên nhỏ hơn 0.3, làm mờ được áp dụng; ngược lại, không làm mờ.\n",
        "Chọn ngẫu nhiên kích thước của kernel (3x3 hoặc 5x5).\n",
        "Áp dụng Gaussian Blur với kernel đã chọn lên ảnh.\n",
        "\"\"\"\n",
        "\n",
        "def random_noise(image):\n",
        "    if random.random() < 0.3:  # 30% xác suất áp dụng nhiễu\n",
        "        noise = np.random.normal(0, 25, image.shape).astype(np.uint8)\n",
        "        noisy_image = cv2.add(image, noise)\n",
        "        return noisy_image\n",
        "    else:\n",
        "        return image\n",
        "\n",
        "\"\"\"\n",
        "Mục đích: Thêm nhiễu Gaussian ngẫu nhiên vào ảnh.\n",
        "Các bước thực hiện:\n",
        "Nếu giá trị ngẫu nhiên nhỏ hơn 0.3, nhiễu được áp dụng; ngược lại, không áp dụng.\n",
        "Tạo nhiễu Gaussian với trung bình 0 và độ lệch chuẩn 25.\n",
        "Thêm nhiễu vào ảnh và đảm bảo giá trị pixel nằm trong khoảng hợp lệ (0-255).\n",
        "\"\"\""
      ],
      "metadata": {
        "id": "G3oCo-wYLpQ6",
        "colab": {
          "base_uri": "https://localhost:8080/",
          "height": 53
        },
        "outputId": "2bae7c17-2123-41bb-e27f-852e4dcaf01e"
      },
      "execution_count": null,
      "outputs": [
        {
          "output_type": "execute_result",
          "data": {
            "text/plain": [
              "'\\nMục đích: Thêm nhiễu Gaussian ngẫu nhiên vào ảnh.\\nCác bước thực hiện:\\nNếu giá trị ngẫu nhiên nhỏ hơn 0.3, nhiễu được áp dụng; ngược lại, không áp dụng.\\nTạo nhiễu Gaussian với trung bình 0 và độ lệch chuẩn 25.\\nThêm nhiễu vào ảnh và đảm bảo giá trị pixel nằm trong khoảng hợp lệ (0-255).\\n'"
            ],
            "application/vnd.google.colaboratory.intrinsic+json": {
              "type": "string"
            }
          },
          "metadata": {},
          "execution_count": 10
        }
      ]
    },
    {
      "cell_type": "code",
      "source": [
        "def process_and_save_images():\n",
        "    data = []\n",
        "    labels = []\n",
        "\n",
        "    # Các thư mục chứa ảnh với nhãn tương ứng\n",
        "    for label, input_folder in enumerate([with_mask_path, without_mask_path, mask_weared_incorrect_path]):\n",
        "\n",
        "        for filename in os.listdir(input_folder):\n",
        "            if filename.endswith('.png') or filename.endswith('.jpg'):\n",
        "                img_path = os.path.join(input_folder, filename)\n",
        "                img = cv2.imread(img_path)\n",
        "\n",
        "                if img is None:  # Check if image loaded successfully\n",
        "                    continue  # Skip to the next image\n",
        "\n",
        "                # Apply random augmentations that work on color images\n",
        "                img = random_brightness(img)\n",
        "                img = random_rotation(img)\n",
        "\n",
        "                # Chuyển đổi ảnh về grayscale\n",
        "                img = cv2.cvtColor(img, cv2.COLOR_BGR2GRAY)\n",
        "\n",
        "                # Apply augmentations that work on grayscale images\n",
        "                img = random_blur(img)  # Apply blur randomly\n",
        "                img = random_noise(img)  # Apply noise randomly\n",
        "\n",
        "                # Resize ảnh về kích thước cố định (128x128)\n",
        "                img = cv2.resize(img, (128, 128))  # Use cv2.resize for NumPy arrays\n",
        "\n",
        "                # Chuẩn hóa giá trị pixel về khoảng [0, 1]\n",
        "                img_array = np.array(img) / 255.0\n",
        "\n",
        "                # Lưu ảnh đã xử lý vào danh sách\n",
        "                data.append(img_array)\n",
        "                labels.append(label)\n",
        "\n",
        "    # Chuyển đổi danh sách thành numpy array\n",
        "    data = np.array(data, dtype=np.float32)\n",
        "    labels = np.array(labels, dtype=np.int64)\n",
        "\n",
        "    # Chuyển đổi thành tensor của PyTorch\n",
        "    data_tensor = torch.tensor(data)\n",
        "    labels_tensor = torch.tensor(labels)\n",
        "\n",
        "    return data_tensor, labels_tensor\n",
        "\n",
        "# Gọi hàm để xử lý ảnh và nhận về tensor dữ liệu và nhãn\n",
        "data_tensor, labels_tensor = process_and_save_images()\n",
        "\n",
        "print(data_tensor.shape)  # Kiểm tra kích thước của tensor dữ liệu\n",
        "print(labels_tensor.shape)  # Kiểm tra kích thước của tensor nhãn"
      ],
      "metadata": {
        "id": "hn1Jt5SnLrOA",
        "colab": {
          "base_uri": "https://localhost:8080/"
        },
        "outputId": "f0564d02-b6fc-4b0b-8d77-5ccca1bc93e4"
      },
      "execution_count": null,
      "outputs": [
        {
          "output_type": "stream",
          "name": "stdout",
          "text": [
            "torch.Size([8982, 128, 128])\n",
            "torch.Size([8982])\n"
          ]
        }
      ]
    },
    {
      "cell_type": "markdown",
      "source": [
        "# **3. Train SVM**"
      ],
      "metadata": {
        "id": "j3CJkklmLxnN"
      }
    },
    {
      "cell_type": "code",
      "source": [
        "from re import X\n",
        "from sklearn import svm, metrics\n",
        "from sklearn.decomposition import PCA\n",
        "from sklearn.pipeline import make_pipeline\n",
        "from sklearn.preprocessing import StandardScaler\n",
        "from sklearn.model_selection import train_test_split\n",
        "data1 = data_tensor.reshape(data_tensor.shape[0], -1)\n",
        "X_train, X_test, y_train, y_test = train_test_split(data1, labels_tensor, stratify= labels_tensor, test_size=0.2, random_state=42)\n"
      ],
      "metadata": {
        "id": "Pzq5Tj9PL1SZ"
      },
      "execution_count": null,
      "outputs": []
    },
    {
      "cell_type": "code",
      "source": [
        "model = svm.SVC(kernel='linear')"
      ],
      "metadata": {
        "id": "w5ua3qTBL3Ii"
      },
      "execution_count": null,
      "outputs": []
    },
    {
      "cell_type": "code",
      "source": [
        "model.fit(X_train, y_train)"
      ],
      "metadata": {
        "id": "F8D0gjphL4Tw",
        "colab": {
          "base_uri": "https://localhost:8080/",
          "height": 75
        },
        "outputId": "cdeda769-7960-4127-c010-71182181bd63"
      },
      "execution_count": null,
      "outputs": [
        {
          "output_type": "execute_result",
          "data": {
            "text/plain": [
              "SVC(kernel='linear')"
            ],
            "text/html": [
              "<style>#sk-container-id-1 {color: black;background-color: white;}#sk-container-id-1 pre{padding: 0;}#sk-container-id-1 div.sk-toggleable {background-color: white;}#sk-container-id-1 label.sk-toggleable__label {cursor: pointer;display: block;width: 100%;margin-bottom: 0;padding: 0.3em;box-sizing: border-box;text-align: center;}#sk-container-id-1 label.sk-toggleable__label-arrow:before {content: \"▸\";float: left;margin-right: 0.25em;color: #696969;}#sk-container-id-1 label.sk-toggleable__label-arrow:hover:before {color: black;}#sk-container-id-1 div.sk-estimator:hover label.sk-toggleable__label-arrow:before {color: black;}#sk-container-id-1 div.sk-toggleable__content {max-height: 0;max-width: 0;overflow: hidden;text-align: left;background-color: #f0f8ff;}#sk-container-id-1 div.sk-toggleable__content pre {margin: 0.2em;color: black;border-radius: 0.25em;background-color: #f0f8ff;}#sk-container-id-1 input.sk-toggleable__control:checked~div.sk-toggleable__content {max-height: 200px;max-width: 100%;overflow: auto;}#sk-container-id-1 input.sk-toggleable__control:checked~label.sk-toggleable__label-arrow:before {content: \"▾\";}#sk-container-id-1 div.sk-estimator input.sk-toggleable__control:checked~label.sk-toggleable__label {background-color: #d4ebff;}#sk-container-id-1 div.sk-label input.sk-toggleable__control:checked~label.sk-toggleable__label {background-color: #d4ebff;}#sk-container-id-1 input.sk-hidden--visually {border: 0;clip: rect(1px 1px 1px 1px);clip: rect(1px, 1px, 1px, 1px);height: 1px;margin: -1px;overflow: hidden;padding: 0;position: absolute;width: 1px;}#sk-container-id-1 div.sk-estimator {font-family: monospace;background-color: #f0f8ff;border: 1px dotted black;border-radius: 0.25em;box-sizing: border-box;margin-bottom: 0.5em;}#sk-container-id-1 div.sk-estimator:hover {background-color: #d4ebff;}#sk-container-id-1 div.sk-parallel-item::after {content: \"\";width: 100%;border-bottom: 1px solid gray;flex-grow: 1;}#sk-container-id-1 div.sk-label:hover label.sk-toggleable__label {background-color: #d4ebff;}#sk-container-id-1 div.sk-serial::before {content: \"\";position: absolute;border-left: 1px solid gray;box-sizing: border-box;top: 0;bottom: 0;left: 50%;z-index: 0;}#sk-container-id-1 div.sk-serial {display: flex;flex-direction: column;align-items: center;background-color: white;padding-right: 0.2em;padding-left: 0.2em;position: relative;}#sk-container-id-1 div.sk-item {position: relative;z-index: 1;}#sk-container-id-1 div.sk-parallel {display: flex;align-items: stretch;justify-content: center;background-color: white;position: relative;}#sk-container-id-1 div.sk-item::before, #sk-container-id-1 div.sk-parallel-item::before {content: \"\";position: absolute;border-left: 1px solid gray;box-sizing: border-box;top: 0;bottom: 0;left: 50%;z-index: -1;}#sk-container-id-1 div.sk-parallel-item {display: flex;flex-direction: column;z-index: 1;position: relative;background-color: white;}#sk-container-id-1 div.sk-parallel-item:first-child::after {align-self: flex-end;width: 50%;}#sk-container-id-1 div.sk-parallel-item:last-child::after {align-self: flex-start;width: 50%;}#sk-container-id-1 div.sk-parallel-item:only-child::after {width: 0;}#sk-container-id-1 div.sk-dashed-wrapped {border: 1px dashed gray;margin: 0 0.4em 0.5em 0.4em;box-sizing: border-box;padding-bottom: 0.4em;background-color: white;}#sk-container-id-1 div.sk-label label {font-family: monospace;font-weight: bold;display: inline-block;line-height: 1.2em;}#sk-container-id-1 div.sk-label-container {text-align: center;}#sk-container-id-1 div.sk-container {/* jupyter's `normalize.less` sets `[hidden] { display: none; }` but bootstrap.min.css set `[hidden] { display: none !important; }` so we also need the `!important` here to be able to override the default hidden behavior on the sphinx rendered scikit-learn.org. See: https://github.com/scikit-learn/scikit-learn/issues/21755 */display: inline-block !important;position: relative;}#sk-container-id-1 div.sk-text-repr-fallback {display: none;}</style><div id=\"sk-container-id-1\" class=\"sk-top-container\"><div class=\"sk-text-repr-fallback\"><pre>SVC(kernel=&#x27;linear&#x27;)</pre><b>In a Jupyter environment, please rerun this cell to show the HTML representation or trust the notebook. <br />On GitHub, the HTML representation is unable to render, please try loading this page with nbviewer.org.</b></div><div class=\"sk-container\" hidden><div class=\"sk-item\"><div class=\"sk-estimator sk-toggleable\"><input class=\"sk-toggleable__control sk-hidden--visually\" id=\"sk-estimator-id-1\" type=\"checkbox\" checked><label for=\"sk-estimator-id-1\" class=\"sk-toggleable__label sk-toggleable__label-arrow\">SVC</label><div class=\"sk-toggleable__content\"><pre>SVC(kernel=&#x27;linear&#x27;)</pre></div></div></div></div></div>"
            ]
          },
          "metadata": {},
          "execution_count": 14
        }
      ]
    },
    {
      "cell_type": "code",
      "source": [
        "y_pred = model.predict(X_test)"
      ],
      "metadata": {
        "id": "4PfruAM7L5y4"
      },
      "execution_count": null,
      "outputs": []
    },
    {
      "cell_type": "code",
      "source": [
        "from sklearn.metrics import accuracy_score, precision_score, recall_score, f1_score, classification_report\n",
        "accuracy = accuracy_score(y_test, y_pred)\n",
        "precision_micro = precision_score(y_test, y_pred, average='micro')\n",
        "precision_macro = precision_score(y_test, y_pred, average='macro')\n",
        "recall_micro = recall_score(y_test, y_pred, average='micro')\n",
        "recall_macro = recall_score(y_test, y_pred, average='macro')\n",
        "f1_micro = f1_score(y_test, y_pred, average='micro')\n",
        "f1_macro = f1_score(y_test, y_pred, average='macro')\n",
        "\n",
        "print(f'Accuracy: {accuracy:.4f}')\n",
        "print(f'Precision (micro): {precision_micro:.4f}')\n",
        "print(f'Precision (macro): {precision_macro:.4f}')\n",
        "print(f'Recall (micro): {recall_micro:.4f}')\n",
        "print(f'Recall (macro): {recall_macro:.4f}')\n",
        "print(f'F1 score (micro): {f1_micro:.4f}')\n",
        "print(f'F1 score (macro): {f1_macro:.4f}')"
      ],
      "metadata": {
        "id": "iCeYkxu2L7Mr",
        "colab": {
          "base_uri": "https://localhost:8080/"
        },
        "outputId": "4ed9bf48-9db3-4f90-ab45-86eb84e3cee6"
      },
      "execution_count": null,
      "outputs": [
        {
          "output_type": "stream",
          "name": "stdout",
          "text": [
            "Accuracy: 0.5904\n",
            "Precision (micro): 0.5904\n",
            "Precision (macro): 0.5936\n",
            "Recall (micro): 0.5904\n",
            "Recall (macro): 0.5904\n",
            "F1 score (micro): 0.5904\n",
            "F1 score (macro): 0.5914\n"
          ]
        }
      ]
    },
    {
      "cell_type": "markdown",
      "source": [
        "# **4. Train CNN**"
      ],
      "metadata": {
        "id": "LkFAe6p7MAhe"
      }
    },
    {
      "cell_type": "code",
      "source": [
        "!pip install torch torchvision scikit-learn matplotlib\n",
        "\n",
        "import os\n",
        "import cv2\n",
        "import numpy as np\n",
        "import random\n",
        "import torch\n",
        "import torch.nn as nn\n",
        "import torch.optim as optim\n",
        "import torch.nn.functional as F\n",
        "from torch.utils.data import DataLoader, TensorDataset, random_split, Subset\n",
        "from sklearn.metrics import accuracy_score, precision_score, recall_score, f1_score\n",
        "from sklearn.model_selection import train_test_split\n",
        "import matplotlib.pyplot as plt\n"
      ],
      "metadata": {
        "id": "Ik7w9F4CMCt0",
        "colab": {
          "base_uri": "https://localhost:8080/"
        },
        "outputId": "f00236d7-0348-44f9-b747-2be793a9dadd"
      },
      "execution_count": null,
      "outputs": [
        {
          "output_type": "stream",
          "name": "stdout",
          "text": [
            "Requirement already satisfied: torch in /usr/local/lib/python3.10/dist-packages (2.3.0+cu121)\n",
            "Requirement already satisfied: torchvision in /usr/local/lib/python3.10/dist-packages (0.18.0+cu121)\n",
            "Requirement already satisfied: scikit-learn in /usr/local/lib/python3.10/dist-packages (1.2.2)\n",
            "Requirement already satisfied: matplotlib in /usr/local/lib/python3.10/dist-packages (3.7.1)\n",
            "Requirement already satisfied: filelock in /usr/local/lib/python3.10/dist-packages (from torch) (3.15.4)\n",
            "Requirement already satisfied: typing-extensions>=4.8.0 in /usr/local/lib/python3.10/dist-packages (from torch) (4.12.2)\n",
            "Requirement already satisfied: sympy in /usr/local/lib/python3.10/dist-packages (from torch) (1.12.1)\n",
            "Requirement already satisfied: networkx in /usr/local/lib/python3.10/dist-packages (from torch) (3.3)\n",
            "Requirement already satisfied: jinja2 in /usr/local/lib/python3.10/dist-packages (from torch) (3.1.4)\n",
            "Requirement already satisfied: fsspec in /usr/local/lib/python3.10/dist-packages (from torch) (2023.6.0)\n",
            "Collecting nvidia-cuda-nvrtc-cu12==12.1.105 (from torch)\n",
            "  Using cached nvidia_cuda_nvrtc_cu12-12.1.105-py3-none-manylinux1_x86_64.whl (23.7 MB)\n",
            "Collecting nvidia-cuda-runtime-cu12==12.1.105 (from torch)\n",
            "  Using cached nvidia_cuda_runtime_cu12-12.1.105-py3-none-manylinux1_x86_64.whl (823 kB)\n",
            "Collecting nvidia-cuda-cupti-cu12==12.1.105 (from torch)\n",
            "  Using cached nvidia_cuda_cupti_cu12-12.1.105-py3-none-manylinux1_x86_64.whl (14.1 MB)\n",
            "Collecting nvidia-cudnn-cu12==8.9.2.26 (from torch)\n",
            "  Using cached nvidia_cudnn_cu12-8.9.2.26-py3-none-manylinux1_x86_64.whl (731.7 MB)\n",
            "Collecting nvidia-cublas-cu12==12.1.3.1 (from torch)\n",
            "  Using cached nvidia_cublas_cu12-12.1.3.1-py3-none-manylinux1_x86_64.whl (410.6 MB)\n",
            "Collecting nvidia-cufft-cu12==11.0.2.54 (from torch)\n",
            "  Using cached nvidia_cufft_cu12-11.0.2.54-py3-none-manylinux1_x86_64.whl (121.6 MB)\n",
            "Collecting nvidia-curand-cu12==10.3.2.106 (from torch)\n",
            "  Using cached nvidia_curand_cu12-10.3.2.106-py3-none-manylinux1_x86_64.whl (56.5 MB)\n",
            "Collecting nvidia-cusolver-cu12==11.4.5.107 (from torch)\n",
            "  Using cached nvidia_cusolver_cu12-11.4.5.107-py3-none-manylinux1_x86_64.whl (124.2 MB)\n",
            "Collecting nvidia-cusparse-cu12==12.1.0.106 (from torch)\n",
            "  Using cached nvidia_cusparse_cu12-12.1.0.106-py3-none-manylinux1_x86_64.whl (196.0 MB)\n",
            "Collecting nvidia-nccl-cu12==2.20.5 (from torch)\n",
            "  Using cached nvidia_nccl_cu12-2.20.5-py3-none-manylinux2014_x86_64.whl (176.2 MB)\n",
            "Collecting nvidia-nvtx-cu12==12.1.105 (from torch)\n",
            "  Using cached nvidia_nvtx_cu12-12.1.105-py3-none-manylinux1_x86_64.whl (99 kB)\n",
            "Requirement already satisfied: triton==2.3.0 in /usr/local/lib/python3.10/dist-packages (from torch) (2.3.0)\n",
            "Collecting nvidia-nvjitlink-cu12 (from nvidia-cusolver-cu12==11.4.5.107->torch)\n",
            "  Downloading nvidia_nvjitlink_cu12-12.5.82-py3-none-manylinux2014_x86_64.whl (21.3 MB)\n",
            "\u001b[2K     \u001b[90m━━━━━━━━━━━━━━━━━━━━━━━━━━━━━━━━━━━━━━━━\u001b[0m \u001b[32m21.3/21.3 MB\u001b[0m \u001b[31m63.1 MB/s\u001b[0m eta \u001b[36m0:00:00\u001b[0m\n",
            "\u001b[?25hRequirement already satisfied: numpy in /usr/local/lib/python3.10/dist-packages (from torchvision) (1.25.2)\n",
            "Requirement already satisfied: pillow!=8.3.*,>=5.3.0 in /usr/local/lib/python3.10/dist-packages (from torchvision) (9.4.0)\n",
            "Requirement already satisfied: scipy>=1.3.2 in /usr/local/lib/python3.10/dist-packages (from scikit-learn) (1.11.4)\n",
            "Requirement already satisfied: joblib>=1.1.1 in /usr/local/lib/python3.10/dist-packages (from scikit-learn) (1.4.2)\n",
            "Requirement already satisfied: threadpoolctl>=2.0.0 in /usr/local/lib/python3.10/dist-packages (from scikit-learn) (3.5.0)\n",
            "Requirement already satisfied: contourpy>=1.0.1 in /usr/local/lib/python3.10/dist-packages (from matplotlib) (1.2.1)\n",
            "Requirement already satisfied: cycler>=0.10 in /usr/local/lib/python3.10/dist-packages (from matplotlib) (0.12.1)\n",
            "Requirement already satisfied: fonttools>=4.22.0 in /usr/local/lib/python3.10/dist-packages (from matplotlib) (4.53.0)\n",
            "Requirement already satisfied: kiwisolver>=1.0.1 in /usr/local/lib/python3.10/dist-packages (from matplotlib) (1.4.5)\n",
            "Requirement already satisfied: packaging>=20.0 in /usr/local/lib/python3.10/dist-packages (from matplotlib) (24.1)\n",
            "Requirement already satisfied: pyparsing>=2.3.1 in /usr/local/lib/python3.10/dist-packages (from matplotlib) (3.1.2)\n",
            "Requirement already satisfied: python-dateutil>=2.7 in /usr/local/lib/python3.10/dist-packages (from matplotlib) (2.8.2)\n",
            "Requirement already satisfied: six>=1.5 in /usr/local/lib/python3.10/dist-packages (from python-dateutil>=2.7->matplotlib) (1.16.0)\n",
            "Requirement already satisfied: MarkupSafe>=2.0 in /usr/local/lib/python3.10/dist-packages (from jinja2->torch) (2.1.5)\n",
            "Requirement already satisfied: mpmath<1.4.0,>=1.1.0 in /usr/local/lib/python3.10/dist-packages (from sympy->torch) (1.3.0)\n",
            "Installing collected packages: nvidia-nvtx-cu12, nvidia-nvjitlink-cu12, nvidia-nccl-cu12, nvidia-curand-cu12, nvidia-cufft-cu12, nvidia-cuda-runtime-cu12, nvidia-cuda-nvrtc-cu12, nvidia-cuda-cupti-cu12, nvidia-cublas-cu12, nvidia-cusparse-cu12, nvidia-cudnn-cu12, nvidia-cusolver-cu12\n",
            "Successfully installed nvidia-cublas-cu12-12.1.3.1 nvidia-cuda-cupti-cu12-12.1.105 nvidia-cuda-nvrtc-cu12-12.1.105 nvidia-cuda-runtime-cu12-12.1.105 nvidia-cudnn-cu12-8.9.2.26 nvidia-cufft-cu12-11.0.2.54 nvidia-curand-cu12-10.3.2.106 nvidia-cusolver-cu12-11.4.5.107 nvidia-cusparse-cu12-12.1.0.106 nvidia-nccl-cu12-2.20.5 nvidia-nvjitlink-cu12-12.5.82 nvidia-nvtx-cu12-12.1.105\n"
          ]
        }
      ]
    },
    {
      "cell_type": "code",
      "source": [
        "def random_brightness(img):\n",
        "    factor = 1.0 + (0.2 * (random.random() - 0.5))\n",
        "    return cv2.convertScaleAbs(img, alpha=factor, beta=0)\n",
        "\n",
        "def random_rotation(img):\n",
        "    angle = random.uniform(-15, 15)\n",
        "    h, w = img.shape[:2]\n",
        "    M = cv2.getRotationMatrix2D((w // 2, h // 2), angle, 1)\n",
        "    return cv2.warpAffine(img, M, (w, h))\n",
        "\n",
        "def random_blur(img):\n",
        "    if random.random() < 0.5:\n",
        "        ksize = random.choice([3, 5, 7])\n",
        "        return cv2.GaussianBlur(img, (ksize, ksize), 0)\n",
        "    return img\n",
        "\n",
        "def random_noise(img):\n",
        "    if random.random() < 0.5:\n",
        "        noise = np.random.randn(*img.shape) * 10\n",
        "        img = img + noise\n",
        "        img = np.clip(img, 0, 255)\n",
        "    return img\n",
        "\n",
        "def process_and_save_images(with_mask_path, without_mask_path, mask_weared_incorrect_path):\n",
        "    data = []\n",
        "    labels = []\n",
        "\n",
        "    # Các thư mục chứa ảnh với nhãn tương ứng\n",
        "    for label, input_folder in enumerate([with_mask_path, without_mask_path, mask_weared_incorrect_path]):\n",
        "        for filename in os.listdir(input_folder):\n",
        "            if filename.endswith('.png') or filename.endswith('.jpg'):\n",
        "                img_path = os.path.join(input_folder, filename)\n",
        "                img = cv2.imread(img_path)\n",
        "\n",
        "                if img is None:  # Check if image loaded successfully\n",
        "                    continue  # Skip to the next image\n",
        "\n",
        "                # Apply random augmentations that work on color images\n",
        "                img = random_brightness(img)\n",
        "                img = random_rotation(img)\n",
        "\n",
        "                # Chuyển đổi ảnh về grayscale\n",
        "                img = cv2.cvtColor(img, cv2.COLOR_BGR2GRAY)\n",
        "\n",
        "                # Apply augmentations that work on grayscale images\n",
        "                img = random_blur(img)  # Apply blur randomly\n",
        "                img = random_noise(img)  # Apply noise randomly\n",
        "\n",
        "                # Resize ảnh về kích thước cố định (128x128)\n",
        "                img = cv2.resize(img, (128, 128))  # Use cv2.resize for NumPy arrays\n",
        "\n",
        "                # Chuẩn hóa giá trị pixel về khoảng [0, 1]\n",
        "                img_array = np.array(img) / 255.0\n",
        "\n",
        "                # Lưu ảnh đã xử lý vào danh sách\n",
        "                data.append(img_array)\n",
        "                labels.append(label)\n",
        "\n",
        "    # Chuyển đổi danh sách thành numpy array\n",
        "    data = np.array(data, dtype=np.float32)\n",
        "    labels = np.array(labels, dtype=np.int64)\n",
        "\n",
        "    # Thêm một chiều cho kênh màu (1 kênh vì ảnh grayscale)\n",
        "    data = data[:, np.newaxis, :, :]\n",
        "\n",
        "    # Chuyển đổi thành tensor của PyTorch\n",
        "    data_tensor = torch.tensor(data)\n",
        "    labels_tensor = torch.tensor(labels)\n",
        "\n",
        "    return data_tensor, labels_tensor\n",
        "\n",
        "# Đường dẫn đến các thư mục ảnh (bạn cần thay đổi cho phù hợp với dữ liệu của bạn)\n",
        "with_mask_path = '/content/Dataset/with_mask'\n",
        "without_mask_path = '/content/Dataset/without_mask'\n",
        "mask_weared_incorrect_path = '/content/Dataset/mask_weared_incorrect'\n",
        "\n",
        "# Gọi hàm để xử lý ảnh và nhận về tensor dữ liệu và nhãn\n",
        "data_tensor, labels_tensor = process_and_save_images(with_mask_path, without_mask_path, mask_weared_incorrect_path)\n",
        "\n",
        "print(data_tensor.shape)  # Kiểm tra kích thước của tensor dữ liệu\n",
        "print(labels_tensor.shape)  # Kiểm tra kích thước của tensor nhãn\n"
      ],
      "metadata": {
        "id": "DR3axrTiMEEJ",
        "colab": {
          "base_uri": "https://localhost:8080/"
        },
        "outputId": "b57e5f04-8661-43b0-a73d-b139a4f6a68c"
      },
      "execution_count": null,
      "outputs": [
        {
          "output_type": "stream",
          "name": "stdout",
          "text": [
            "torch.Size([8982, 1, 128, 128])\n",
            "torch.Size([8982])\n"
          ]
        }
      ]
    },
    {
      "cell_type": "code",
      "source": [
        "# Chia data thành train, validation và test theo phương pháp stratified sampling\n",
        "train_idx, test_idx, train_labels, test_labels = train_test_split(\n",
        "    np.arange(len(labels_tensor)), labels_tensor, test_size=0.2, stratify=labels_tensor)\n",
        "\n",
        "train_idx, val_idx, train_labels, val_labels = train_test_split(\n",
        "    train_idx, train_labels, test_size=0.25, stratify=train_labels)  # 0.25 * 0.8 = 0.2\n",
        "\n",
        "train_data = Subset(TensorDataset(data_tensor, labels_tensor), train_idx)\n",
        "val_data = Subset(TensorDataset(data_tensor, labels_tensor), val_idx)\n",
        "test_data = Subset(TensorDataset(data_tensor, labels_tensor), test_idx)\n",
        "\n",
        "train_loader = DataLoader(train_data, batch_size=32, shuffle=True)\n",
        "val_loader = DataLoader(val_data, batch_size=32, shuffle=False)\n",
        "test_loader = DataLoader(test_data, batch_size=32, shuffle=False)\n"
      ],
      "metadata": {
        "id": "2AIwHgAzMFgv"
      },
      "execution_count": null,
      "outputs": []
    },
    {
      "cell_type": "code",
      "source": [
        "class SimpleCNN(nn.Module):\n",
        "    def __init__(self):\n",
        "        super(SimpleCNN, self).__init__()\n",
        "        self.conv1 = nn.Conv2d(in_channels=1, out_channels=16, kernel_size=3, stride=1, padding=1)\n",
        "        self.bn1 = nn.BatchNorm2d(16)\n",
        "        self.pool = nn.MaxPool2d(kernel_size=2, stride=2)\n",
        "        self.conv2 = nn.Conv2d(in_channels=16, out_channels=32, kernel_size=3, stride=1, padding=1)\n",
        "        self.bn2 = nn.BatchNorm2d(32)\n",
        "        self.conv3 = nn.Conv2d(in_channels=32, out_channels=64, kernel_size=3, stride=1, padding=1)\n",
        "        self.bn3 = nn.BatchNorm2d(64)\n",
        "        self.dropout = nn.Dropout(0.5)\n",
        "        self.fc = nn.Linear(64 * 16 * 16, 3)  # Fully connected layer cho 3 lớp\n",
        "\n",
        "    def forward(self, x):\n",
        "        x = self.pool(F.relu(self.bn1(self.conv1(x))))\n",
        "        x = self.pool(F.relu(self.bn2(self.conv2(x))))\n",
        "        x = self.pool(F.relu(self.bn3(self.conv3(x))))\n",
        "        x = x.view(-1, 64 * 16 * 16)  # Reshape cho fully connected layer\n",
        "        x = self.dropout(x)\n",
        "        x = self.fc(x)\n",
        "        return x\n"
      ],
      "metadata": {
        "id": "k0f6SAaRMHHZ"
      },
      "execution_count": null,
      "outputs": []
    },
    {
      "cell_type": "code",
      "source": [
        "model = SimpleCNN()\n",
        "device = torch.device(\"cuda\" if torch.cuda.is_available() else \"cpu\")\n",
        "model.to(device)\n",
        "optimizer = optim.Adam(model.parameters(), lr=0.001)\n",
        "criterion = nn.CrossEntropyLoss()\n",
        "\n",
        "def train_model(model, optimizer, criterion, train_loader, val_loader, epochs=10):\n",
        "    train_losses = []\n",
        "    train_accuracies = []\n",
        "    val_losses = []\n",
        "    val_accuracies = []\n",
        "\n",
        "    best_val_loss = float('inf')\n",
        "    best_model_weights = None\n",
        "\n",
        "    for epoch in range(epochs):\n",
        "        model.train()\n",
        "        running_loss = 0.0\n",
        "        correct_train = 0\n",
        "        total_train = 0\n",
        "\n",
        "        # Training phase\n",
        "        for inputs, labels in train_loader:\n",
        "            inputs, labels = inputs.to(device), labels.to(device)\n",
        "\n",
        "            optimizer.zero_grad()\n",
        "            outputs = model(inputs)\n",
        "            loss = criterion(outputs, labels)\n",
        "            loss.backward()\n",
        "            optimizer.step()\n",
        "\n",
        "            running_loss += loss.item()\n",
        "\n",
        "            _, predicted = torch.max(outputs, 1)\n",
        "            total_train += labels.size(0)\n",
        "            correct_train += (predicted == labels).sum().item()\n",
        "\n",
        "        train_loss = running_loss / len(train_loader)\n",
        "        train_accuracy = correct_train / total_train\n",
        "        train_losses.append(train_loss)\n",
        "        train_accuracies.append(train_accuracy)\n",
        "\n",
        "        # Validation phase\n",
        "        model.eval()\n",
        "        running_val_loss = 0.0\n",
        "        correct_val = 0\n",
        "        total_val = 0\n",
        "\n",
        "        with torch.no_grad():\n",
        "            for inputs, labels in val_loader:\n",
        "                inputs, labels = inputs.to(device), labels.to(device)\n",
        "\n",
        "                outputs = model(inputs)\n",
        "                loss = criterion(outputs, labels)\n",
        "                running_val_loss += loss.item()\n",
        "\n",
        "                _, predicted = torch.max(outputs, 1)\n",
        "                total_val += labels.size(0)\n",
        "                correct_val += (predicted == labels).sum().item()\n",
        "\n",
        "        val_loss = running_val_loss / len(val_loader)\n",
        "        val_accuracy = correct_val / total_val\n",
        "        val_losses.append(val_loss)\n",
        "        val_accuracies.append(val_accuracy)\n",
        "\n",
        "        # Save the best model\n",
        "        if val_loss < best_val_loss:\n",
        "            best_val_loss = val_loss\n",
        "            best_model_weights = model.state_dict()\n",
        "\n",
        "        print(f'Epoch [{epoch+1}/{epochs}], '\n",
        "              f'Train Loss: {train_loss:.4f}, Train Acc: {train_accuracy:.4f}, '\n",
        "              f'Val Loss: {val_loss:.4f}, Val Acc: {val_accuracy:.4f}')\n",
        "\n",
        "    # Load the best model weights\n",
        "    model.load_state_dict(best_model_weights)\n",
        "\n",
        "    # Plotting\n",
        "    plt.figure(figsize=(15, 5))\n",
        "\n",
        "    plt.subplot(1, 2, 1)\n",
        "    plt.plot(train_accuracies, label='Train Accuracy')\n",
        "    plt.plot(val_accuracies, label='Validation Accuracy')\n",
        "    plt.title('Train and Validation Accuracy')\n",
        "    plt.xlabel('Epoch')\n",
        "    plt.ylabel('Accuracy')\n",
        "    plt.legend()\n",
        "\n",
        "    plt.subplot(1, 2, 2)\n",
        "    plt.plot(train_losses, label='Train Loss')\n",
        "    plt.plot(val_losses, label='Validation Loss')\n",
        "    plt.title('Train and Validation Loss')\n",
        "    plt.xlabel('Epoch')\n",
        "    plt.ylabel('Loss')\n",
        "    plt.legend()\n",
        "\n",
        "    plt.show()\n",
        "\n",
        "# Huấn luyện mô hình\n",
        "train_model(model, optimizer, criterion, train_loader, val_loader, epochs=10)\n"
      ],
      "metadata": {
        "id": "9NdQjWHJMIqb",
        "colab": {
          "base_uri": "https://localhost:8080/",
          "height": 657
        },
        "outputId": "84cc54da-b3a0-427b-e7a9-de41a94dd240"
      },
      "execution_count": null,
      "outputs": [
        {
          "output_type": "stream",
          "name": "stdout",
          "text": [
            "Epoch [1/10], Train Loss: 0.7804, Train Acc: 0.7635, Val Loss: 0.4979, Val Acc: 0.8542\n",
            "Epoch [2/10], Train Loss: 0.4451, Train Acc: 0.8662, Val Loss: 0.3680, Val Acc: 0.8815\n",
            "Epoch [3/10], Train Loss: 0.4092, Train Acc: 0.8799, Val Loss: 0.4127, Val Acc: 0.8776\n",
            "Epoch [4/10], Train Loss: 0.3953, Train Acc: 0.8872, Val Loss: 0.4291, Val Acc: 0.8770\n",
            "Epoch [5/10], Train Loss: 0.3141, Train Acc: 0.9085, Val Loss: 0.4130, Val Acc: 0.8915\n",
            "Epoch [6/10], Train Loss: 0.2370, Train Acc: 0.9228, Val Loss: 0.4407, Val Acc: 0.8937\n",
            "Epoch [7/10], Train Loss: 0.2427, Train Acc: 0.9265, Val Loss: 0.3749, Val Acc: 0.9009\n",
            "Epoch [8/10], Train Loss: 0.1702, Train Acc: 0.9436, Val Loss: 0.3419, Val Acc: 0.9054\n",
            "Epoch [9/10], Train Loss: 0.1718, Train Acc: 0.9441, Val Loss: 0.3649, Val Acc: 0.9110\n",
            "Epoch [10/10], Train Loss: 0.1585, Train Acc: 0.9462, Val Loss: 0.5015, Val Acc: 0.8859\n"
          ]
        },
        {
          "output_type": "display_data",
          "data": {
            "text/plain": [
              "<Figure size 1500x500 with 2 Axes>"
            ],
            "image/png": "[encoded data removed]"
          },
          "metadata": {}
        }
      ]
    },
    {
      "cell_type": "code",
      "source": [
        "model.eval()\n",
        "all_labels = []\n",
        "all_predictions = []\n",
        "\n",
        "with torch.no_grad():\n",
        "    for inputs, labels in test_loader:\n",
        "        inputs, labels = inputs.to(device), labels.to(device)\n",
        "        outputs = model(inputs)\n",
        "        _, predicted = torch.max(outputs, 1)\n",
        "        all_labels.extend(labels.cpu().numpy())\n",
        "        all_predictions.extend(predicted.cpu().numpy())\n",
        "\n",
        "# Tính toán các độ đo\n",
        "accuracy = accuracy_score(all_labels, all_predictions)\n",
        "precision_micro = precision_score(all_labels, all_predictions, average='micro')\n",
        "recall_micro = recall_score(all_labels, all_predictions, average='micro')\n",
        "f1_micro = f1_score(all_labels, all_predictions, average='micro')\n",
        "\n",
        "precision_macro = precision_score(all_labels, all_predictions, average='macro')\n",
        "recall_macro = recall_score(all_labels, all_predictions, average='macro')\n",
        "f1_macro = f1_score(all_labels, all_predictions, average='macro')\n",
        "\n",
        "print(f'Accuracy: {accuracy:.4f}')\n",
        "print(f'Precision (Micro): {precision_micro:.4f}')\n",
        "print(f'Recall (Micro): {recall_micro:.4f}')\n",
        "print(f'F1 Score (Micro): {f1_micro:.4f}')\n",
        "print(f'Precision (Macro): {precision_macro:.4f}')\n",
        "print(f'Recall (Macro): {recall_macro:.4f}')\n",
        "print(f'F1 Score (Macro): {f1_macro:.4f}')\n"
      ],
      "metadata": {
        "id": "wppOkPp9MN9o",
        "colab": {
          "base_uri": "https://localhost:8080/",
          "height": 297
        },
        "outputId": "832efac0-1c7a-414b-ebc2-5af7c7afed2e"
      },
      "execution_count": null,
      "outputs": [
        {
          "output_type": "stream",
          "name": "stdout",
          "text": [
            "Accuracy: 0.8820\n",
            "Precision (Micro): 0.8820\n",
            "Recall (Micro): 0.8820\n",
            "F1 Score (Micro): 0.8820\n",
            "Precision (Macro): 0.8947\n",
            "Recall (Macro): 0.8820\n",
            "F1 Score (Macro): 0.8835\n"
          ]
        },
        {
          "output_type": "error",
          "ename": "NameError",
          "evalue": "name 'x' is not defined",
          "traceback": [
            "\u001b[0;31m---------------------------------------------------------------------------\u001b[0m",
            "\u001b[0;31mNameError\u001b[0m                                 Traceback (most recent call last)",
            "\u001b[0;32m<ipython-input-22-e4a94158b82f>\u001b[0m in \u001b[0;36m<cell line: 30>\u001b[0;34m()\u001b[0m\n\u001b[1;32m     28\u001b[0m \u001b[0mprint\u001b[0m\u001b[0;34m(\u001b[0m\u001b[0;34mf'Recall (Macro): {recall_macro:.4f}'\u001b[0m\u001b[0;34m)\u001b[0m\u001b[0;34m\u001b[0m\u001b[0;34m\u001b[0m\u001b[0m\n\u001b[1;32m     29\u001b[0m \u001b[0mprint\u001b[0m\u001b[0;34m(\u001b[0m\u001b[0;34mf'F1 Score (Macro): {f1_macro:.4f}'\u001b[0m\u001b[0;34m)\u001b[0m\u001b[0;34m\u001b[0m\u001b[0;34m\u001b[0m\u001b[0m\n\u001b[0;32m---> 30\u001b[0;31m \u001b[0mx\u001b[0m\u001b[0;34m\u001b[0m\u001b[0;34m\u001b[0m\u001b[0m\n\u001b[0m",
            "\u001b[0;31mNameError\u001b[0m: name 'x' is not defined"
          ]
        }
      ]
    }
  ]
}